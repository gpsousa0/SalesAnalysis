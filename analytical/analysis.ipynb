{
 "cells": [
  {
   "cell_type": "code",
   "execution_count": 10,
   "id": "3fae1e92",
   "metadata": {},
   "outputs": [],
   "source": [
    "import os\n",
    "import sys\n",
    "\n",
    "from pyspark.sql import SparkSession\n",
    "import pyspark.sql.functions as F\n",
    "from pyspark.sql import Window"
   ]
  },
  {
   "cell_type": "code",
   "execution_count": null,
   "id": "bea8e934",
   "metadata": {},
   "outputs": [],
   "source": [
    "sys.path.append(os.path.abspath(os.path.join(os.getcwd(), '..')))"
   ]
  },
  {
   "cell_type": "code",
   "execution_count": 12,
   "id": "77985671",
   "metadata": {},
   "outputs": [],
   "source": [
    "from modules.utils import read_yaml_config, read_config_parameters"
   ]
  },
  {
   "cell_type": "code",
   "execution_count": null,
   "id": "0202f7d3",
   "metadata": {},
   "outputs": [
    {
     "name": "stderr",
     "output_type": "stream",
     "text": [
      "Setting default log level to \"WARN\".\n",
      "To adjust logging level use sc.setLogLevel(newLevel). For SparkR, use setLogLevel(newLevel).\n",
      "25/10/06 01:17:04 WARN NativeCodeLoader: Unable to load native-hadoop library for your platform... using builtin-java classes where applicable\n"
     ]
    }
   ],
   "source": [
    "# Creating Spark Session\n",
    "spark = SparkSession.builder \\\n",
    "    .appName('Upstart13Analysis') \\\n",
    "    .getOrCreate()"
   ]
  },
  {
   "cell_type": "code",
   "execution_count": 15,
   "id": "1d830b36",
   "metadata": {},
   "outputs": [],
   "source": [
    "# Reading YAML config file\n",
    "config = read_yaml_config(file_path='../config.yaml')"
   ]
  },
  {
   "cell_type": "code",
   "execution_count": 16,
   "id": "f2bcf2fb",
   "metadata": {},
   "outputs": [],
   "source": [
    "# Setting Parquet gold paths\n",
    "gld_path_products = read_config_parameters(config_file=config, structure=['gold', 'products'])\n",
    "gld_path_publish_orders = read_config_parameters(config_file=config, structure=['gold', 'publish_orders'])"
   ]
  },
  {
   "cell_type": "code",
   "execution_count": 18,
   "id": "19cd2471",
   "metadata": {},
   "outputs": [
    {
     "name": "stderr",
     "output_type": "stream",
     "text": [
      "                                                                                \r"
     ]
    }
   ],
   "source": [
    "# Reading Parquet files from Gold Layer\n",
    "products = spark.read.parquet(f'../{gld_path_products}')\n",
    "publish_orders = spark.read.parquet(f'../{gld_path_publish_orders}')"
   ]
  },
  {
   "cell_type": "markdown",
   "id": "8c664879",
   "metadata": {},
   "source": [
    "## Analysis Questions"
   ]
  },
  {
   "cell_type": "markdown",
   "id": "ca82e05e",
   "metadata": {},
   "source": [
    "#### 1. Which color generated the highest revenue each year?"
   ]
  },
  {
   "cell_type": "code",
   "execution_count": 19,
   "id": "479f107f",
   "metadata": {},
   "outputs": [
    {
     "name": "stderr",
     "output_type": "stream",
     "text": [
      "[Stage 3:>                                                          (0 + 2) / 2]\r"
     ]
    },
    {
     "name": "stdout",
     "output_type": "stream",
     "text": [
      "+---------+------+--------------------+\n",
      "|OrderYear| Color|        TotalRevenue|\n",
      "+---------+------+--------------------+\n",
      "|     2021|   Red|   6019614.015699884|\n",
      "|     2022| Black|1.4005242975200394E7|\n",
      "|     2023| Black|1.5047694369201014E7|\n",
      "|     2024|Yellow|   6480746.072200298|\n",
      "+---------+------+--------------------+\n",
      "\n"
     ]
    },
    {
     "name": "stderr",
     "output_type": "stream",
     "text": [
      "                                                                                \r"
     ]
    }
   ],
   "source": [
    "(\n",
    "    publish_orders\n",
    "    .join(\n",
    "        products.select('ProductID', 'Color'),\n",
    "        on='ProductID',\n",
    "        how='inner'\n",
    "    )\n",
    "    .groupBy(\n",
    "        F.year('OrderDate').alias('OrderYear'),\n",
    "        'Color'\n",
    "    )\n",
    "    .agg(\n",
    "        F.sum('TotalLineExtendedPrice').alias('TotalRevenue')\n",
    "    )\n",
    "    .withColumn(\n",
    "        'Rank',\n",
    "        F.dense_rank().over(\n",
    "            Window.partitionBy('OrderYear').orderBy(F.col('TotalRevenue').desc())\n",
    "        )\n",
    "    )\n",
    "    .filter(F.col('Rank') == 1)\n",
    "    .select('OrderYear', 'Color', 'TotalRevenue')\n",
    "    .orderBy('OrderYear')\n",
    ").show()"
   ]
  },
  {
   "cell_type": "markdown",
   "id": "e2caba62",
   "metadata": {},
   "source": [
    "#### 2. What is the average LeadTimeInBusinessDays by ProductCategoryName?"
   ]
  },
  {
   "cell_type": "code",
   "execution_count": 20,
   "id": "4079c298",
   "metadata": {},
   "outputs": [
    {
     "name": "stderr",
     "output_type": "stream",
     "text": [
      "[Stage 10:>                                                         (0 + 2) / 2]\r"
     ]
    },
    {
     "name": "stdout",
     "output_type": "stream",
     "text": [
      "+-------------------+-------------------------+\n",
      "|ProductCategoryName|AvgLeadTimeInBusinessDays|\n",
      "+-------------------+-------------------------+\n",
      "|               null|                     4.72|\n",
      "|        Accessories|                      4.7|\n",
      "|              Bikes|                     4.67|\n",
      "|           Clothing|                     4.71|\n",
      "|         Components|                     4.67|\n",
      "+-------------------+-------------------------+\n",
      "\n"
     ]
    },
    {
     "name": "stderr",
     "output_type": "stream",
     "text": [
      "                                                                                \r"
     ]
    }
   ],
   "source": [
    "(\n",
    "    publish_orders\n",
    "    .join(\n",
    "        products.select('ProductID', 'ProductCategoryName'),\n",
    "        on='ProductID',\n",
    "        how='inner'\n",
    "    )\n",
    "    .groupBy('ProductCategoryName')\n",
    "    .agg(\n",
    "        F.round(F.avg('LeadTimeInBusinessDays'), 2).alias('AvgLeadTimeInBusinessDays')\n",
    "    )\n",
    "    .orderBy('ProductCategoryName')\n",
    ").show()"
   ]
  },
  {
   "cell_type": "code",
   "execution_count": 21,
   "id": "0bdefdeb",
   "metadata": {},
   "outputs": [],
   "source": [
    "spark.stop()"
   ]
  }
 ],
 "metadata": {
  "kernelspec": {
   "display_name": "3.10.2",
   "language": "python",
   "name": "python3"
  },
  "language_info": {
   "codemirror_mode": {
    "name": "ipython",
    "version": 3
   },
   "file_extension": ".py",
   "mimetype": "text/x-python",
   "name": "python",
   "nbconvert_exporter": "python",
   "pygments_lexer": "ipython3",
   "version": "3.10.2"
  }
 },
 "nbformat": 4,
 "nbformat_minor": 5
}
